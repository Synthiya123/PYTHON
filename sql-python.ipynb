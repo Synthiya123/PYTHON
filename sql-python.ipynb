{
 "cells": [
  {
   "cell_type": "markdown",
   "id": "064c07e4",
   "metadata": {},
   "source": [
    "# Connecting the MySQL with Python"
   ]
  },
  {
   "cell_type": "code",
   "execution_count": 81,
   "id": "efced273",
   "metadata": {},
   "outputs": [
    {
     "name": "stdout",
     "output_type": "stream",
     "text": [
      "Requirement already satisfied: mysql-connector-python in c:\\users\\2211582\\anaconda3\\lib\\site-packages (8.0.30)Note: you may need to restart the kernel to use updated packages.\n",
      "Requirement already satisfied: protobuf<=3.20.1,>=3.11.0 in c:\\users\\2211582\\anaconda3\\lib\\site-packages (from mysql-connector-python) (3.19.1)\n",
      "\n"
     ]
    }
   ],
   "source": [
    "pip install mysql-connector-python"
   ]
  },
  {
   "cell_type": "code",
   "execution_count": 10,
   "id": "d4dad886",
   "metadata": {},
   "outputs": [],
   "source": [
    "import mysql.connector as mysql"
   ]
  },
  {
   "cell_type": "code",
   "execution_count": 39,
   "id": "e5c9030c",
   "metadata": {},
   "outputs": [
    {
     "name": "stdout",
     "output_type": "stream",
     "text": [
      "<mysql.connector.connection_cext.CMySQLConnection object at 0x000001995EE9C460>\n"
     ]
    }
   ],
   "source": [
    "database = mysql.connect(host = \"localhost\",user = \"root\",password = \"Saviour#123\")\n",
    "\n",
    "print(database)"
   ]
  },
  {
   "cell_type": "markdown",
   "id": "09ba951b",
   "metadata": {},
   "source": [
    "# Creating a database and Table"
   ]
  },
  {
   "cell_type": "code",
   "execution_count": 40,
   "id": "1a3261ed",
   "metadata": {},
   "outputs": [],
   "source": [
    "get_from = database.cursor()\n",
    "get_from.execute(\"CREATE DATABASE Trainee\")"
   ]
  },
  {
   "cell_type": "code",
   "execution_count": 41,
   "id": "641c687f",
   "metadata": {},
   "outputs": [],
   "source": [
    "get_from = database.cursor()\n",
    "get_from.execute(\"SHOW DATABASES\")"
   ]
  },
  {
   "cell_type": "code",
   "execution_count": 43,
   "id": "8fb54b9d",
   "metadata": {},
   "outputs": [
    {
     "name": "stdout",
     "output_type": "stream",
     "text": [
      "('cts_work',)\n",
      "('employee',)\n",
      "('flight',)\n",
      "('information_schema',)\n",
      "('mysql',)\n",
      "('mysql_exercise',)\n",
      "('performance_schema',)\n",
      "('sakila',)\n",
      "('school',)\n",
      "('supplier',)\n",
      "('sys',)\n",
      "('trainee',)\n",
      "('video',)\n",
      "('world',)\n"
     ]
    }
   ],
   "source": [
    "for x in get_from:\n",
    "    print(x)"
   ]
  },
  {
   "cell_type": "code",
   "execution_count": 44,
   "id": "d0240a75",
   "metadata": {},
   "outputs": [],
   "source": [
    "get_from = database.cursor()\n",
    "get_from.execute(\"USE Trainee\")"
   ]
  },
  {
   "cell_type": "code",
   "execution_count": 47,
   "id": "5b5a27bf",
   "metadata": {},
   "outputs": [],
   "source": [
    "get_from = database.cursor()\n",
    "get_from.execute(\"Create Table Trainee_details (Trainee_id varchar(30),First_name char(50),last_name char(50),Qualification varchar(30))\")"
   ]
  },
  {
   "cell_type": "markdown",
   "id": "6d98b16d",
   "metadata": {},
   "source": [
    "# Reading the table."
   ]
  },
  {
   "cell_type": "code",
   "execution_count": 56,
   "id": "023b3d17",
   "metadata": {},
   "outputs": [
    {
     "name": "stdout",
     "output_type": "stream",
     "text": [
      "('trainee_details',)\n"
     ]
    }
   ],
   "source": [
    "get_from = database.cursor()\n",
    "get_from.execute(\"show Tables\")\n",
    "\n",
    "for x in get_from:\n",
    "  print(x)"
   ]
  },
  {
   "cell_type": "markdown",
   "id": "4f6f1a82",
   "metadata": {},
   "source": [
    "# Updating the Table"
   ]
  },
  {
   "cell_type": "code",
   "execution_count": 66,
   "id": "300f200e",
   "metadata": {},
   "outputs": [],
   "source": [
    "get_from = database.cursor()\n",
    "get_from.execute(\"ALTER TABLE Trainee_details ADD COLUMN Edu char(20)\")\n"
   ]
  },
  {
   "cell_type": "markdown",
   "id": "100d23cd",
   "metadata": {},
   "source": [
    "# Deleting the table"
   ]
  },
  {
   "cell_type": "code",
   "execution_count": 75,
   "id": "51c8cb87",
   "metadata": {},
   "outputs": [],
   "source": [
    "get_from = database.cursor()\n",
    "get_from.execute(\"DROP TABLE Trainee_details\")\n"
   ]
  },
  {
   "cell_type": "code",
   "execution_count": 79,
   "id": "8e148393",
   "metadata": {},
   "outputs": [],
   "source": [
    "get_from = database.cursor()\n",
    "get_from.execute(\"show databases\")\n"
   ]
  }
 ],
 "metadata": {
  "kernelspec": {
   "display_name": "Python 3 (ipykernel)",
   "language": "python",
   "name": "python3"
  },
  "language_info": {
   "codemirror_mode": {
    "name": "ipython",
    "version": 3
   },
   "file_extension": ".py",
   "mimetype": "text/x-python",
   "name": "python",
   "nbconvert_exporter": "python",
   "pygments_lexer": "ipython3",
   "version": "3.9.12"
  }
 },
 "nbformat": 4,
 "nbformat_minor": 5
}
