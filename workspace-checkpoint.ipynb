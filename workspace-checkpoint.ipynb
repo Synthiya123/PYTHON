{
 "cells": [
  {
   "cell_type": "code",
   "execution_count": 19,
   "id": "56747273",
   "metadata": {},
   "outputs": [
    {
     "name": "stdout",
     "output_type": "stream",
     "text": [
      "1000\n"
     ]
    }
   ],
   "source": [
    "## EG1\n",
    "n1=100\n",
    "n2=1000\n",
    "if n1>n2 :\n",
    "    print('100')\n",
    "    \n",
    "else:\n",
    "    print('1000')"
   ]
  },
  {
   "cell_type": "code",
   "execution_count": 20,
   "id": "ae6582f8",
   "metadata": {},
   "outputs": [
    {
     "name": "stdout",
     "output_type": "stream",
     "text": [
      "100\n"
     ]
    }
   ],
   "source": [
    "n1=100\n",
    "n2=1000\n",
    "if n1<n2 :\n",
    "    print('100')\n",
    "    \n",
    "else:\n",
    "    print('1000')"
   ]
  }
 ],
 "metadata": {
  "kernelspec": {
   "display_name": "Python 3 (ipykernel)",
   "language": "python",
   "name": "python3"
  },
  "language_info": {
   "codemirror_mode": {
    "name": "ipython",
    "version": 3
   },
   "file_extension": ".py",
   "mimetype": "text/x-python",
   "name": "python",
   "nbconvert_exporter": "python",
   "pygments_lexer": "ipython3",
   "version": "3.9.12"
  },
  "widgets": {
   "application/vnd.jupyter.widget-state+json": {
    "state": {},
    "version_major": 2,
    "version_minor": 0
   }
  }
 },
 "nbformat": 4,
 "nbformat_minor": 5
}
