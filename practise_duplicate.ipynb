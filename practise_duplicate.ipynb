{
  "nbformat": 4,
  "nbformat_minor": 0,
  "metadata": {
    "colab": {
      "name": "practise duplicate.ipynb",
      "provenance": [],
      "collapsed_sections": [],
      "authorship_tag": "ABX9TyN/JA5w+mdJFNxhHYwes+A0",
      "include_colab_link": true
    },
    "kernelspec": {
      "name": "python3",
      "display_name": "Python 3"
    },
    "language_info": {
      "name": "python"
    }
  },
  "cells": [
    {
      "cell_type": "markdown",
      "metadata": {
        "id": "view-in-github",
        "colab_type": "text"
      },
      "source": [
        "<a href=\"https://colab.research.google.com/github/Synthiya123/PYTHON/blob/main/practise_duplicate.ipynb\" target=\"_parent\"><img src=\"https://colab.research.google.com/assets/colab-badge.svg\" alt=\"Open In Colab\"/></a>"
      ]
    },
    {
      "cell_type": "code",
      "execution_count": 5,
      "metadata": {
        "colab": {
          "base_uri": "https://localhost:8080/"
        },
        "id": "G9DWC5lFneMl",
        "outputId": "0e9d02ee-a3ba-468b-823e-50b460658ce6"
      },
      "outputs": [
        {
          "output_type": "stream",
          "name": "stdout",
          "text": [
            "original list: [2345, 7896, 2213, 7865, 9854, 3456, 2345, 7896, 2213, 7865, 9854, 3456, 2345, 7896, 2213, 7865, 9854, 3456]\n",
            "after removing duplicates : [{3456, 2213, 2345, 7896, 7865, 9854}]\n"
          ]
        }
      ],
      "source": [
        "#users\n",
        "\n",
        "users=[2345,7896,2213,7865,9854,3456,2345,7896,2213,7865,9854,3456,2345,7896,2213,7865,9854,3456]\n",
        "print(\"original list:\",users)\n",
        "otpt=[set(users)]\n",
        "print(\"after removing duplicates :\",otpt)"
      ]
    },
    {
      "cell_type": "code",
      "source": [
        "user={2345,7896,2213,7865,9854,3456,2345,7896,2213,7865,9854,3456,2345,7896,2213,7865,9854,3456}\n",
        "print(user)"
      ],
      "metadata": {
        "colab": {
          "base_uri": "https://localhost:8080/"
        },
        "id": "csyQk-eiphZg",
        "outputId": "c9ed5884-8e77-4577-df42-7af2ebc6388e"
      },
      "execution_count": 6,
      "outputs": [
        {
          "output_type": "stream",
          "name": "stdout",
          "text": [
            "{3456, 2213, 2345, 7896, 7865, 9854}\n"
          ]
        }
      ]
    },
    {
      "cell_type": "markdown",
      "source": [
        ""
      ],
      "metadata": {
        "id": "MSHL-VQYpg1x"
      }
    }
  ]
}