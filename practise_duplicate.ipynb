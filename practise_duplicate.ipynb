{
  "nbformat": 4,
  "nbformat_minor": 0,
  "metadata": {
    "colab": {
      "name": "practise duplicate.ipynb",
      "provenance": [],
      "collapsed_sections": [],
      "authorship_tag": "ABX9TyO6j2XPM5o1GWNx5dKX3BoU",
      "include_colab_link": true
    },
    "kernelspec": {
      "name": "python3",
      "display_name": "Python 3"
    },
    "language_info": {
      "name": "python"
    }
  },
  "cells": [
    {
      "cell_type": "markdown",
      "metadata": {
        "id": "view-in-github",
        "colab_type": "text"
      },
      "source": [
        "<a href=\"https://colab.research.google.com/github/Synthiya123/PYTHON/blob/main/practise_duplicate.ipynb\" target=\"_parent\"><img src=\"https://colab.research.google.com/assets/colab-badge.svg\" alt=\"Open In Colab\"/></a>"
      ]
    },
    {
      "cell_type": "code",
      "execution_count": null,
      "metadata": {
        "colab": {
          "base_uri": "https://localhost:8080/"
        },
        "id": "G9DWC5lFneMl",
        "outputId": "7e24b63b-78e7-4350-d61b-66af6d779d20"
      },
      "outputs": [
        {
          "output_type": "stream",
          "name": "stdout",
          "text": [
            "original list: [2345, 7896, 2213, 7865, 9854, 3456, 2345, 7896, 2213, 7865, 9854, 3456, 2345, 7896, 2213, 7865, 9854, 3456]\n",
            "after removing duplicates : {3456, 2213, 2345, 7896, 7865, 9854}\n"
          ]
        }
      ],
      "source": [
        "#users\n",
        "\n",
        "users=[2345,7896,2213,7865,9854,3456,2345,7896,2213,7865,9854,3456,2345,7896,2213,7865,9854,3456]\n",
        "print(\"original list:\",users)\n",
        "otpt=set(users)\n",
        "print(\"after removing duplicates :\",otpt)"
      ]
    },
    {
      "cell_type": "code",
      "source": [
        "user={2345,7896,2213,7865,9854,3456,2345,7896,2213,7865,9854,3456,2345,7896,2213,7865,9854,3456}\n",
        "print(user)"
      ],
      "metadata": {
        "colab": {
          "base_uri": "https://localhost:8080/"
        },
        "id": "csyQk-eiphZg",
        "outputId": "c9ed5884-8e77-4577-df42-7af2ebc6388e"
      },
      "execution_count": null,
      "outputs": [
        {
          "output_type": "stream",
          "name": "stdout",
          "text": [
            "{3456, 2213, 2345, 7896, 7865, 9854}\n"
          ]
        }
      ]
    },
    {
      "cell_type": "code",
      "source": [
        "#get the prime number\n",
        "num= 678\n",
        "if num>1:\n",
        "  for i in range(2,num):\n",
        "    if (num % i)==0:\n",
        "        print(\"not prime\")\n",
        "        break\n",
        "    else:\n",
        "     print(\"prime\")\n",
        "     break\n",
        "      \n",
        "    "
      ],
      "metadata": {
        "colab": {
          "base_uri": "https://localhost:8080/"
        },
        "id": "Dtds0_S-riX8",
        "outputId": "f8aa8a57-26f8-4ffb-9591-d605595ac702"
      },
      "execution_count": 32,
      "outputs": [
        {
          "output_type": "stream",
          "name": "stdout",
          "text": [
            "not prime\n"
          ]
        }
      ]
    },
    {
      "cell_type": "code",
      "source": [
        "# count the words in dictonary\n",
        "sen = input(\"Enter a sentence : \")\n",
        "wrd = sen.split()\n",
        "print(wrd)\n",
        "nyd={}\n",
        "for k in wrd:\n",
        "  nyd[k]= wrd.count(k)\n",
        "  print(\"words & keys:\",nyd)\n"
      ],
      "metadata": {
        "colab": {
          "base_uri": "https://localhost:8080/"
        },
        "id": "Mfag9d0k9aYH",
        "outputId": "d192d520-4d00-4853-88ad-4b24bebdc595"
      },
      "execution_count": 24,
      "outputs": [
        {
          "output_type": "stream",
          "name": "stdout",
          "text": [
            "Enter a sentence : she is my friends friend\n",
            "['she', 'is', 'my', 'friends', 'friend']\n",
            "words & keys: {'she': 1}\n",
            "words & keys: {'she': 1, 'is': 1}\n",
            "words & keys: {'she': 1, 'is': 1, 'my': 1}\n",
            "words & keys: {'she': 1, 'is': 1, 'my': 1, 'friends': 1}\n",
            "words & keys: {'she': 1, 'is': 1, 'my': 1, 'friends': 1, 'friend': 1}\n"
          ]
        }
      ]
    }
  ]
}