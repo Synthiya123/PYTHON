{
  "nbformat": 4,
  "nbformat_minor": 0,
  "metadata": {
    "colab": {
      "name": "Printing prime numbers.ipynb",
      "provenance": [],
      "collapsed_sections": [],
      "authorship_tag": "ABX9TyP+TOc8ZJ/RhLlfHrSLndp0",
      "include_colab_link": true
    },
    "kernelspec": {
      "name": "python3",
      "display_name": "Python 3"
    },
    "language_info": {
      "name": "python"
    }
  },
  "cells": [
    {
      "cell_type": "markdown",
      "metadata": {
        "id": "view-in-github",
        "colab_type": "text"
      },
      "source": [
        "<a href=\"https://colab.research.google.com/github/Synthiya123/PYTHON/blob/main/Printing_prime_numbers.ipynb\" target=\"_parent\"><img src=\"https://colab.research.google.com/assets/colab-badge.svg\" alt=\"Open In Colab\"/></a>"
      ]
    },
    {
      "cell_type": "code",
      "execution_count": 2,
      "metadata": {
        "colab": {
          "base_uri": "https://localhost:8080/"
        },
        "id": "_S6ADZywD2Ya",
        "outputId": "baf29db9-b39c-4312-f9a6-0b7add2f32af"
      },
      "outputs": [
        {
          "output_type": "stream",
          "name": "stdout",
          "text": [
            "Enter the number:30\n",
            "2\n",
            "3\n",
            "5\n",
            "7\n",
            "11\n",
            "13\n",
            "17\n",
            "19\n",
            "23\n",
            "29\n"
          ]
        }
      ],
      "source": [
        "#prime numbers till the number\n",
        "\n",
        "number=int(input('Enter the number:'))\n",
        "for number in range(number+1):\n",
        "    if number>1:\n",
        "        for i in range(2,number):\n",
        "            if (number%i)==0:\n",
        "                break\n",
        "        else:\n",
        "            print(number)\n",
        "\n"
      ]
    },
    {
      "cell_type": "code",
      "source": [
        "# print prime numbers between two given numbers.\n",
        "\n",
        "start_num = int(input(\"Enter the start value:\"))\n",
        "end_num = int(input(\"Enter the end value:\"))\n",
        "for number in range(start_num,end_num+1):\n",
        "    if number>1:\n",
        "        for i in range(2,number):\n",
        "            if (number%i)==0:\n",
        "                break\n",
        "        else:\n",
        "            print(number)"
      ],
      "metadata": {
        "colab": {
          "base_uri": "https://localhost:8080/"
        },
        "id": "lIUnmvr1HAFp",
        "outputId": "ad20b1b0-d89f-4aa9-c963-063626b61dac"
      },
      "execution_count": 4,
      "outputs": [
        {
          "output_type": "stream",
          "name": "stdout",
          "text": [
            "Enter the start value:50\n",
            "Enter the end value:90\n",
            "53\n",
            "59\n",
            "61\n",
            "67\n",
            "71\n",
            "73\n",
            "79\n",
            "83\n",
            "89\n"
          ]
        }
      ]
    }
  ]
}