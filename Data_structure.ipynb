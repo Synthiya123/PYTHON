{
  "nbformat": 4,
  "nbformat_minor": 0,
  "metadata": {
    "colab": {
      "name": "Data structure.ipynb",
      "provenance": [],
      "collapsed_sections": [],
      "authorship_tag": "ABX9TyNm5RD2CMI0xEeLU6QPB1jA",
      "include_colab_link": true
    },
    "kernelspec": {
      "name": "python3",
      "display_name": "Python 3"
    },
    "language_info": {
      "name": "python"
    }
  },
  "cells": [
    {
      "cell_type": "markdown",
      "metadata": {
        "id": "view-in-github",
        "colab_type": "text"
      },
      "source": [
        "<a href=\"https://colab.research.google.com/github/Synthiya123/PYTHON/blob/main/Data_structure.ipynb\" target=\"_parent\"><img src=\"https://colab.research.google.com/assets/colab-badge.svg\" alt=\"Open In Colab\"/></a>"
      ]
    },
    {
      "cell_type": "markdown",
      "source": [
        "#DATA STRUCTURE - PYTHON"
      ],
      "metadata": {
        "id": "K3g2ERCNQCFR"
      }
    },
    {
      "cell_type": "markdown",
      "source": [
        "**LIST** **[ ]**\n",
        "\n",
        "\n",
        "*   stores multiple items in a single variable.\n",
        "\n",
        "*  order of the elements remains the same."
      ],
      "metadata": {
        "id": "JwB9I3L7qNaa"
      }
    },
    {
      "cell_type": "code",
      "execution_count": null,
      "metadata": {
        "colab": {
          "base_uri": "https://localhost:8080/"
        },
        "id": "5CJ_nrhVhmQ6",
        "outputId": "9839500c-21bd-4fe2-fb3b-03d3ded57156"
      },
      "outputs": [
        {
          "output_type": "execute_result",
          "data": {
            "text/plain": [
              "[1, 'hello', 'great job', 0.88]"
            ]
          },
          "metadata": {},
          "execution_count": 2
        }
      ],
      "source": [
        "list=[1,'hello','great job',0.88]\n",
        "list"
      ]
    },
    {
      "cell_type": "markdown",
      "source": [
        "***.Change()*** - changes the list by specifing position and renaming the element."
      ],
      "metadata": {
        "id": "rw-pwEHtTarX"
      }
    },
    {
      "cell_type": "code",
      "source": [
        "# Change the list item\n",
        "list[1]=\"friends\"\n",
        "print(list)\n"
      ],
      "metadata": {
        "colab": {
          "base_uri": "https://localhost:8080/"
        },
        "id": "XXvJrAMNrq9T",
        "outputId": "6ae21359-fb4b-4bee-c3b7-486b010f4724"
      },
      "execution_count": null,
      "outputs": [
        {
          "output_type": "stream",
          "name": "stdout",
          "text": [
            "[1, 'friends', 'great job', 0.88]\n"
          ]
        }
      ]
    },
    {
      "cell_type": "markdown",
      "source": [
        "***.append()***  - To add the elements at end of the list. "
      ],
      "metadata": {
        "id": "2YlhcIZvS05q"
      }
    },
    {
      "cell_type": "code",
      "source": [
        "#Append - to add  elements at the end of the list.\n",
        "\n",
        "list.append(\"continue the good work\")\n",
        "print(list)"
      ],
      "metadata": {
        "colab": {
          "base_uri": "https://localhost:8080/"
        },
        "id": "-pmhAdpisvMp",
        "outputId": "532add11-ed8f-4411-861f-00c8364f357e"
      },
      "execution_count": null,
      "outputs": [
        {
          "output_type": "stream",
          "name": "stdout",
          "text": [
            "['friends', 'great job', 0.88, 'continue the good work', 'continue the good work']\n"
          ]
        }
      ]
    },
    {
      "cell_type": "code",
      "source": [
        "# Remove the item\n",
        "\n",
        "list.remove(1)\n",
        "print(list)"
      ],
      "metadata": {
        "colab": {
          "base_uri": "https://localhost:8080/"
        },
        "id": "YxQjRaEDtb68",
        "outputId": "ad492719-a35b-47e9-d212-ab628ca4466e"
      },
      "execution_count": null,
      "outputs": [
        {
          "output_type": "stream",
          "name": "stdout",
          "text": [
            "['friends', 'great job', 0.88, 'continue the good work']\n"
          ]
        }
      ]
    },
    {
      "cell_type": "code",
      "source": [
        "#loop through list\n",
        "\n",
        "for x in list:\n",
        "  print(list[3])\n"
      ],
      "metadata": {
        "colab": {
          "base_uri": "https://localhost:8080/"
        },
        "id": "LvL5ZSzotv_J",
        "outputId": "3250ebd3-bdc8-4bfd-e27b-1b9db7fe2abc"
      },
      "execution_count": null,
      "outputs": [
        {
          "output_type": "stream",
          "name": "stdout",
          "text": [
            "continue the good work\n",
            "continue the good work\n",
            "continue the good work\n",
            "continue the good work\n"
          ]
        }
      ]
    },
    {
      "cell_type": "markdown",
      "source": [
        "***list.sort***   -- Arranges the number in ascending order."
      ],
      "metadata": {
        "id": "tVWG_OZ_RfR6"
      }
    },
    {
      "cell_type": "code",
      "source": [
        "# sort the list-- Arrange them in order\n",
        "\n",
        "list1=[1,5,8,50,62,14,67,90,-34,-78,-2]\n",
        "list1.sort()\n",
        "print(list1)\n"
      ],
      "metadata": {
        "colab": {
          "base_uri": "https://localhost:8080/"
        },
        "id": "phV19CjIus1p",
        "outputId": "22bad827-2ca6-434e-a3ed-cfaf778cca81"
      },
      "execution_count": null,
      "outputs": [
        {
          "output_type": "stream",
          "name": "stdout",
          "text": [
            "[-78, -34, -2, 1, 5, 8, 14, 50, 62, 67, 90]\n"
          ]
        }
      ]
    },
    {
      "cell_type": "code",
      "source": [
        "Alpha=[\"a\",\"d\",\"g\",\"b\",\"x\",\"j\",\"t\",\"e\"]\n",
        "Alpha.sort()\n",
        "print(Alpha)"
      ],
      "metadata": {
        "colab": {
          "base_uri": "https://localhost:8080/"
        },
        "id": "Hvkab2G5RwsG",
        "outputId": "0d3207d6-8d8f-43ef-d728-26a4b454adb9"
      },
      "execution_count": 39,
      "outputs": [
        {
          "output_type": "stream",
          "name": "stdout",
          "text": [
            "['a', 'b', 'd', 'e', 'g', 'j', 't', 'x']\n"
          ]
        }
      ]
    },
    {
      "cell_type": "markdown",
      "source": [
        "***list.copy()***   -we can make a copy of the list."
      ],
      "metadata": {
        "id": "oYiUcur1RFky"
      }
    },
    {
      "cell_type": "code",
      "source": [
        "#copy the list\n",
        "\n",
        "list1.copy()\n",
        "print(list1)"
      ],
      "metadata": {
        "colab": {
          "base_uri": "https://localhost:8080/"
        },
        "id": "2saZA68lus27",
        "outputId": "6408221b-ef5e-45aa-c837-37e8c64d2874"
      },
      "execution_count": null,
      "outputs": [
        {
          "output_type": "stream",
          "name": "stdout",
          "text": [
            "[-78, -34, -2, 1, 5, 8, 14, 50, 62, 67, 90]\n"
          ]
        }
      ]
    },
    {
      "cell_type": "markdown",
      "source": [
        "***join***  -- combines the two or more lists."
      ],
      "metadata": {
        "id": "BvYr1A8-QbCp"
      }
    },
    {
      "cell_type": "code",
      "source": [
        "#Join the list\n",
        "\n",
        "list_a=[\"S\",\"G\",\"W\"]\n",
        "list_b=[\"stop\",\"Go\",\"Wait\"]\n",
        "list_d=[1,2,3,4,5]\n",
        "\n",
        "list_c=list_a+list_b+list_d\n",
        "print(list_c)"
      ],
      "metadata": {
        "colab": {
          "base_uri": "https://localhost:8080/"
        },
        "id": "BdJsLwsNyPS2",
        "outputId": "ba78f201-b0cb-439b-8b99-2d93066ba6a2"
      },
      "execution_count": 37,
      "outputs": [
        {
          "output_type": "stream",
          "name": "stdout",
          "text": [
            "['S', 'G', 'W', 'stop', 'Go', 'Wait', 1, 2, 3, 4, 5]\n"
          ]
        }
      ]
    },
    {
      "cell_type": "markdown",
      "source": [
        "***reverse()***  - reverses the entire list"
      ],
      "metadata": {
        "id": "PJDRnsq5QOna"
      }
    },
    {
      "cell_type": "code",
      "source": [
        "#reverse the list\n",
        "\n",
        "list1.reverse()\n",
        "print(list1)\n",
        "\n"
      ],
      "metadata": {
        "colab": {
          "base_uri": "https://localhost:8080/"
        },
        "id": "W3PVF9r0zx0I",
        "outputId": "dfacb477-f934-45fb-82b5-ed660aa14afa"
      },
      "execution_count": null,
      "outputs": [
        {
          "output_type": "stream",
          "name": "stdout",
          "text": [
            "[90, 67, 62, 50, 14, 8, 5, 1, -2, -34, -78]\n"
          ]
        }
      ]
    },
    {
      "cell_type": "markdown",
      "source": [
        "***insert()*** -- to add element at a specific position.\n",
        "Give the position and the element that to be inserted.\n"
      ],
      "metadata": {
        "id": "HWk__UDYPALr"
      }
    },
    {
      "cell_type": "code",
      "source": [
        "#insert -- to add element at a specific position \n",
        "# Give the position and the element that to be inserted.\n",
        "\n",
        "subjects=[\"English\",\"Math\",\"science\"]\n",
        "subjects.insert(1,\"Language\")\n",
        "print(subjects)\n",
        "\n"
      ],
      "metadata": {
        "colab": {
          "base_uri": "https://localhost:8080/"
        },
        "id": "SEbyiJIk1XpD",
        "outputId": "4d2cab55-e181-41a5-979d-1d5f0d8cf9d0"
      },
      "execution_count": 29,
      "outputs": [
        {
          "output_type": "stream",
          "name": "stdout",
          "text": [
            "['English', 'Language', 'Math', 'science']\n"
          ]
        }
      ]
    },
    {
      "cell_type": "markdown",
      "source": [
        "***pop()***   -- Removes the last element defaulty. If you specify the position then the respective element will be poped out."
      ],
      "metadata": {
        "id": "o0P37dR3NGX2"
      }
    },
    {
      "cell_type": "code",
      "source": [
        "#pop() -- Ask for the  position and it returns back the element from recently changed list.\n",
        "\n",
        "subjects.pop()"
      ],
      "metadata": {
        "colab": {
          "base_uri": "https://localhost:8080/",
          "height": 35
        },
        "id": "SSBUf_H30re_",
        "outputId": "3cea9754-9a75-44ed-d43f-a485e88391e8"
      },
      "execution_count": 31,
      "outputs": [
        {
          "output_type": "execute_result",
          "data": {
            "text/plain": [
              "'science'"
            ],
            "application/vnd.google.colaboratory.intrinsic+json": {
              "type": "string"
            }
          },
          "metadata": {},
          "execution_count": 31
        }
      ]
    },
    {
      "cell_type": "code",
      "source": [
        "print(subjects)\n",
        "subjects.pop(1)"
      ],
      "metadata": {
        "colab": {
          "base_uri": "https://localhost:8080/",
          "height": 52
        },
        "id": "Y_fngtvtOcAL",
        "outputId": "3f428aa3-dfe0-4f1a-a69f-c68115996911"
      },
      "execution_count": 33,
      "outputs": [
        {
          "output_type": "stream",
          "name": "stdout",
          "text": [
            "['English', 'Language']\n"
          ]
        },
        {
          "output_type": "execute_result",
          "data": {
            "text/plain": [
              "'Language'"
            ],
            "application/vnd.google.colaboratory.intrinsic+json": {
              "type": "string"
            }
          },
          "metadata": {},
          "execution_count": 33
        }
      ]
    },
    {
      "cell_type": "markdown",
      "source": [
        "***count(values)***   -- returns the number of times the element occured."
      ],
      "metadata": {
        "id": "ZK9qzazsL3lu"
      }
    },
    {
      "cell_type": "code",
      "source": [
        "#count(value) - give the element and its returns you the count of the element, from the original list.\n",
        "\n",
        "subjects=[\"English\",\"Math\",\"science\",\"Math\",\"science\"]\n",
        "C=subjects.count(\"Math\")\n",
        "print(C)"
      ],
      "metadata": {
        "colab": {
          "base_uri": "https://localhost:8080/"
        },
        "id": "-giRsF261Xr8",
        "outputId": "0e04876d-208a-4952-8ad6-3e1a31d81cec"
      },
      "execution_count": 22,
      "outputs": [
        {
          "output_type": "stream",
          "name": "stdout",
          "text": [
            "2\n"
          ]
        }
      ]
    },
    {
      "cell_type": "markdown",
      "source": [
        "***list.index()***  -- Returns the chunck from the list."
      ],
      "metadata": {
        "id": "ilIMoWMFLGJ7"
      }
    },
    {
      "cell_type": "code",
      "source": [
        "#Index - returning the chunck from the list\n",
        "\n",
        "list_c[4:6]\n"
      ],
      "metadata": {
        "colab": {
          "base_uri": "https://localhost:8080/"
        },
        "id": "d9L1PbZZ9gKI",
        "outputId": "9aad172d-d78c-4a32-8875-763c3745ebbf"
      },
      "execution_count": null,
      "outputs": [
        {
          "output_type": "execute_result",
          "data": {
            "text/plain": [
              "['Go', 'Wait']"
            ]
          },
          "metadata": {},
          "execution_count": 80
        }
      ]
    },
    {
      "cell_type": "markdown",
      "source": [
        "***SETS {}***  \n",
        "*  Used to collect the unique elements out the set.\n",
        " \n",
        "*   Set can neither indexed nor ordered.\n"
      ],
      "metadata": {
        "id": "OJa_wc7unqBB"
      }
    },
    {
      "cell_type": "code",
      "source": [
        "\n",
        "sta={'pen','pencil','eraser',1,2,4,2,1,5,6,0,'true','false',False}\n",
        "print(sta)\n"
      ],
      "metadata": {
        "colab": {
          "base_uri": "https://localhost:8080/"
        },
        "id": "y_OgBiHKiDgE",
        "outputId": "07f07e0f-4bce-474a-fddc-39e5c4ee5ba9"
      },
      "execution_count": null,
      "outputs": [
        {
          "output_type": "stream",
          "name": "stdout",
          "text": [
            "{0, 1, 2, 'true', 4, 5, 6, 'pen', 'eraser', 'pencil', 'false'}\n"
          ]
        }
      ]
    },
    {
      "cell_type": "markdown",
      "source": [
        "**NOTE**: under set{} false statement  is read as zero and it vanishes."
      ],
      "metadata": {
        "id": "jmgZ1qRpoqXv"
      }
    },
    {
      "cell_type": "markdown",
      "source": [
        "***remove()*** -- used to  Remove the specific element from the set.\n",
        "\n",
        "\n"
      ],
      "metadata": {
        "id": "eWdOJL8xI3ZG"
      }
    },
    {
      "cell_type": "code",
      "source": [
        "sta.remove('true')\n",
        "print(sta)"
      ],
      "metadata": {
        "colab": {
          "base_uri": "https://localhost:8080/"
        },
        "id": "l4-ROtKnJ53l",
        "outputId": "40d9f96c-6881-4912-bf54-22e97e19acab"
      },
      "execution_count": null,
      "outputs": [
        {
          "output_type": "stream",
          "name": "stdout",
          "text": [
            "{0, 1, 2, 4, 5, 6, 'pen', 'eraser', 'pencil', 'false'}\n"
          ]
        }
      ]
    },
    {
      "cell_type": "markdown",
      "source": [
        "***clear()*** -- Absolute clearance of the set."
      ],
      "metadata": {
        "id": "oPAEQwn3TOSP"
      }
    },
    {
      "cell_type": "code",
      "source": [
        "de_forest={\"animals\",\"trees\",\"water Falls\"}\n",
        "de_forest.clear()\n",
        "print(\"de_forest\")"
      ],
      "metadata": {
        "colab": {
          "base_uri": "https://localhost:8080/"
        },
        "id": "H4WXOaE7Tfqq",
        "outputId": "5ab7448e-2c97-4106-afdc-1e1ec2834485"
      },
      "execution_count": 105,
      "outputs": [
        {
          "output_type": "stream",
          "name": "stdout",
          "text": [
            "de_forest\n"
          ]
        }
      ]
    },
    {
      "cell_type": "markdown",
      "source": [
        "***pop()***-- Removes the specific element by itself as sets are not indexed.\n"
      ],
      "metadata": {
        "id": "bvzRhyqOW_Hc"
      }
    },
    {
      "cell_type": "code",
      "source": [
        "tens={10,20,30,40,50,60,70,80,90}\n",
        "tens.pop()\n",
        "print(tens)"
      ],
      "metadata": {
        "colab": {
          "base_uri": "https://localhost:8080/"
        },
        "id": "PtKeGaOIXhS6",
        "outputId": "ee5015a7-0788-4047-cd7b-c9e6a1fc3157"
      },
      "execution_count": 111,
      "outputs": [
        {
          "output_type": "stream",
          "name": "stdout",
          "text": [
            "{40, 10, 80, 50, 20, 90, 60, 30}\n"
          ]
        }
      ]
    },
    {
      "cell_type": "markdown",
      "source": [
        "***add()*** --adds the elements to the set."
      ],
      "metadata": {
        "id": "FELsepzGVDE3"
      }
    },
    {
      "cell_type": "code",
      "source": [
        "forest={\"animals\",\"trees\",\"water Falls\"}\n",
        "forest.add(\"Densed\")\n",
        "print(forest)"
      ],
      "metadata": {
        "colab": {
          "base_uri": "https://localhost:8080/"
        },
        "id": "-rE-Fv0pVXHl",
        "outputId": "9591f9cd-de30-493b-c81a-7fa2877c058e"
      },
      "execution_count": 106,
      "outputs": [
        {
          "output_type": "stream",
          "name": "stdout",
          "text": [
            "{'Densed', 'animals', 'water Falls', 'trees'}\n"
          ]
        }
      ]
    },
    {
      "cell_type": "markdown",
      "source": [
        "***.copy()*** -- Gives you a copy  of the set. "
      ],
      "metadata": {
        "id": "CabGvpmWWJ2I"
      }
    },
    {
      "cell_type": "code",
      "source": [
        "forest.copy()\n",
        "print(forest)\n"
      ],
      "metadata": {
        "colab": {
          "base_uri": "https://localhost:8080/"
        },
        "id": "c8Uln_gvWedx",
        "outputId": "a33d227c-d007-4a02-b70c-dfda472a36cd"
      },
      "execution_count": 108,
      "outputs": [
        {
          "output_type": "stream",
          "name": "stdout",
          "text": [
            "{'Densed', 'animals', 'water Falls', 'trees'}\n"
          ]
        }
      ]
    },
    {
      "cell_type": "markdown",
      "source": [
        "***Looping the set*** - loops till all the unique elements are reached. \n",
        "\n",
        "\n"
      ],
      "metadata": {
        "id": "HBhj3AePLwBc"
      }
    },
    {
      "cell_type": "code",
      "source": [
        "cen_ten={\"Mean\",\"Median\",\"Mode\",\"Mean\",\"Median\",\"Mode\",\"range\"}\n",
        "for x in cen_ten:\n",
        "  print(x)\n"
      ],
      "metadata": {
        "colab": {
          "base_uri": "https://localhost:8080/"
        },
        "id": "iIPN0SCBL80X",
        "outputId": "47943745-5da4-4fb3-e6e7-3b4530917248"
      },
      "execution_count": null,
      "outputs": [
        {
          "output_type": "stream",
          "name": "stdout",
          "text": [
            "Mean\n",
            "Median\n",
            "Mode\n",
            "range\n"
          ]
        }
      ]
    },
    {
      "cell_type": "code",
      "source": [
        "cen_ten={\"Mean\",\"Median\",\"Mode\",\"Mean\",\"Median\",\"Mode\",\"range\"}\n",
        "for x in cen_ten:\n",
        "  print(\"Mode\")\n"
      ],
      "metadata": {
        "colab": {
          "base_uri": "https://localhost:8080/"
        },
        "id": "Ii5ja83DNzbv",
        "outputId": "e4249e8d-4215-49cc-ac18-6f4a39a83a5c"
      },
      "execution_count": null,
      "outputs": [
        {
          "output_type": "stream",
          "name": "stdout",
          "text": [
            "Mode\n",
            "Mode\n",
            "Mode\n",
            "Mode\n"
          ]
        }
      ]
    },
    {
      "cell_type": "code",
      "source": [
        ""
      ],
      "metadata": {
        "id": "rojfU0ATJHb9"
      },
      "execution_count": null,
      "outputs": []
    },
    {
      "cell_type": "markdown",
      "source": [
        "**Differnce()**  -- Having the reference of one set and retuns the different elements in that refered set."
      ],
      "metadata": {
        "id": "Lxkp6tlYaeEA"
      }
    },
    {
      "cell_type": "code",
      "source": [
        "# Having the set_A as reference and returns the output.\n",
        "\n",
        "set_A={5,10,15,20,25,30,35}\n",
        "set_B={10,20,30,40}\n",
        "otpt=set_A.difference(set_B)\n",
        "print(otpt)"
      ],
      "metadata": {
        "colab": {
          "base_uri": "https://localhost:8080/"
        },
        "id": "jzpyfnLba0yE",
        "outputId": "ce5c1132-dcfa-4a3c-ce48-ab071117ceb1"
      },
      "execution_count": 112,
      "outputs": [
        {
          "output_type": "stream",
          "name": "stdout",
          "text": [
            "{25, 35, 5, 15}\n"
          ]
        }
      ]
    },
    {
      "cell_type": "code",
      "source": [
        "#Having the set_B as referece and returning the differnt element in set_B\n",
        "\n",
        "set_A={5,10,15,20,25,30,35}\n",
        "set_B={10,20,30,40}\n",
        "otpt=set_B.difference(set_A)\n",
        "print(otpt)"
      ],
      "metadata": {
        "colab": {
          "base_uri": "https://localhost:8080/"
        },
        "id": "Y1B-dfj8cnSG",
        "outputId": "494a3788-b10a-4e09-853f-1b7febad39af"
      },
      "execution_count": 113,
      "outputs": [
        {
          "output_type": "stream",
          "name": "stdout",
          "text": [
            "{40}\n"
          ]
        }
      ]
    },
    {
      "cell_type": "markdown",
      "source": [
        "***differnce_update***    -- Both the sets are compared, common elements are vanished and the different element are displayed."
      ],
      "metadata": {
        "id": "WszDJprtI3bk"
      }
    },
    {
      "cell_type": "code",
      "source": [
        "TS={20,30,40,50,60,70,80}\n",
        "Fs={5,10,15,20,25,30,35,40}\n",
        "otpt=TS.difference_update(Fs)\n",
        "print(TS)"
      ],
      "metadata": {
        "colab": {
          "base_uri": "https://localhost:8080/"
        },
        "id": "t2Q7VXipdXG3",
        "outputId": "e0f43362-2c10-4ab5-e8a5-ec47676a02ba"
      },
      "execution_count": 122,
      "outputs": [
        {
          "output_type": "stream",
          "name": "stdout",
          "text": [
            "{70, 80, 50, 60}\n"
          ]
        }
      ]
    },
    {
      "cell_type": "code",
      "source": [
        "TS={20,30,40,50,60,70,80}\n",
        "Fs={5,10,15,20,25,30,35,40}\n",
        "otpt=Fs.difference_update(TS)\n",
        "print(Fs)"
      ],
      "metadata": {
        "colab": {
          "base_uri": "https://localhost:8080/"
        },
        "id": "1i_EYUckgL5M",
        "outputId": "396abde7-5ec0-447e-f586-57a892c334bb"
      },
      "execution_count": 123,
      "outputs": [
        {
          "output_type": "stream",
          "name": "stdout",
          "text": [
            "{35, 5, 10, 15, 25}\n"
          ]
        }
      ]
    },
    {
      "cell_type": "markdown",
      "source": [
        "***intersection()***   -- Collection of common elements from 2 or 3 sets. "
      ],
      "metadata": {
        "id": "AuC-CDCKgwHB"
      }
    },
    {
      "cell_type": "code",
      "source": [
        "X={4,12,20,24,32,36,8,24,16}\n",
        "Y={2,4,6,8,10,12,14,16,18}\n",
        "Z={6,12,18,24,30,36,42}\n",
        "op=(Y.intersection(Z),\n",
        "    X.intersection(Y),\n",
        "    Z.intersection(X))\n",
        "print(op)"
      ],
      "metadata": {
        "colab": {
          "base_uri": "https://localhost:8080/"
        },
        "id": "UEHEmTkbhplN",
        "outputId": "6fbf9a50-6a89-43f0-ef7e-ee8e33b9a16d"
      },
      "execution_count": 140,
      "outputs": [
        {
          "output_type": "stream",
          "name": "stdout",
          "text": [
            "({18, 12, 6}, {8, 16, 4, 12}, {24, 36, 12})\n"
          ]
        }
      ]
    },
    {
      "cell_type": "code",
      "source": [
        "# Intersection of all the 3 sets\n",
        "\n",
        "Res=Y.intersection(Z,X) \n",
        "print(Res)"
      ],
      "metadata": {
        "colab": {
          "base_uri": "https://localhost:8080/"
        },
        "id": "AYJvVASpmFdF",
        "outputId": "e690260f-9a73-424e-cd7c-6a01ba38e3b8"
      },
      "execution_count": 139,
      "outputs": [
        {
          "output_type": "stream",
          "name": "stdout",
          "text": [
            "{12}\n"
          ]
        }
      ]
    },
    {
      "cell_type": "markdown",
      "source": [
        "***isdisjoint()***   -Checks Whether the sets has commom elements are not."
      ],
      "metadata": {
        "id": "PZy7ONQQosoj"
      }
    },
    {
      "cell_type": "code",
      "source": [
        "HRDS={100,200,300,400,500,600,800}\n",
        "THDS={1000,2000,3000,4000,5000}\n",
        "res=HRDS.isdisjoint(THDS)\n",
        "print(res)\n"
      ],
      "metadata": {
        "colab": {
          "base_uri": "https://localhost:8080/"
        },
        "id": "eAV72v97poES",
        "outputId": "585a2ee8-2e7f-45bb-90c5-e5c86891117f"
      },
      "execution_count": 141,
      "outputs": [
        {
          "output_type": "stream",
          "name": "stdout",
          "text": [
            "True\n"
          ]
        }
      ]
    },
    {
      "cell_type": "code",
      "source": [
        "pencils={\"Natraj\",\"Apsara\",\"classmate\",\"Faber castle\"}\n",
        "notebooks={\"oxford\",\"pearls\",\"foundation\",\"classmate\"}\n",
        "A=notebooks.isdisjoint(pencils)\n",
        "print(A)"
      ],
      "metadata": {
        "colab": {
          "base_uri": "https://localhost:8080/"
        },
        "id": "Qiaf1F91sFRQ",
        "outputId": "ff4b689a-97eb-488f-8376-256396dd2ec2"
      },
      "execution_count": 143,
      "outputs": [
        {
          "output_type": "stream",
          "name": "stdout",
          "text": [
            "False\n"
          ]
        }
      ]
    },
    {
      "cell_type": "markdown",
      "source": [
        "***issubset()***   -- Checks whether a set engulfs in another set."
      ],
      "metadata": {
        "id": "DBaYex3Dsxkl"
      }
    },
    {
      "cell_type": "code",
      "source": [
        "de_forest={\"animals\",\"trees\",\"water Falls\"}\n",
        "forest={\"animals\",\"trees\",\"water Falls\",\"densed\"}\n",
        "chk=de_forest.issubset(forest)\n",
        "print(chk)"
      ],
      "metadata": {
        "colab": {
          "base_uri": "https://localhost:8080/"
        },
        "id": "rVB47jVZpnrn",
        "outputId": "2901804b-042a-4d43-b598-dbd5b7a96f02"
      },
      "execution_count": 144,
      "outputs": [
        {
          "output_type": "stream",
          "name": "stdout",
          "text": [
            "True\n"
          ]
        }
      ]
    },
    {
      "cell_type": "code",
      "source": [
        "khc=forest.issubset(de_forest)\n",
        "print(khc)"
      ],
      "metadata": {
        "colab": {
          "base_uri": "https://localhost:8080/"
        },
        "id": "EH6JLIH9wRiK",
        "outputId": "5563dbb3-dc68-4987-e71c-0f652ad21b34"
      },
      "execution_count": 145,
      "outputs": [
        {
          "output_type": "stream",
          "name": "stdout",
          "text": [
            "False\n"
          ]
        }
      ]
    },
    {
      "cell_type": "markdown",
      "source": [
        "***issuperset***  -- Checks whether all the elements in setB are the elemnts of setA"
      ],
      "metadata": {
        "id": "K_A2erIewXEI"
      }
    },
    {
      "cell_type": "code",
      "source": [
        "setA={2,4,6,8,10,12,14,15,16,18,19,20}\n",
        "setB={4,8,12,16,20}\n",
        "setA.issuperset(setB)\n"
      ],
      "metadata": {
        "colab": {
          "base_uri": "https://localhost:8080/"
        },
        "id": "go38htSMwoup",
        "outputId": "95982cfe-eddc-4eab-9f37-5f5179a71bbe"
      },
      "execution_count": 146,
      "outputs": [
        {
          "output_type": "execute_result",
          "data": {
            "text/plain": [
              "True"
            ]
          },
          "metadata": {},
          "execution_count": 146
        }
      ]
    },
    {
      "cell_type": "code",
      "source": [
        "setB.issuperset(setA)"
      ],
      "metadata": {
        "colab": {
          "base_uri": "https://localhost:8080/"
        },
        "id": "6wP7J6aNyAUx",
        "outputId": "47791666-5007-43b6-fcc2-8dbcd7b17928"
      },
      "execution_count": 147,
      "outputs": [
        {
          "output_type": "execute_result",
          "data": {
            "text/plain": [
              "False"
            ]
          },
          "metadata": {},
          "execution_count": 147
        }
      ]
    },
    {
      "cell_type": "markdown",
      "source": [
        "***Union()***  - combination of sets."
      ],
      "metadata": {
        "id": "PNz7HnIUzeBF"
      }
    },
    {
      "cell_type": "code",
      "source": [
        "setA={2,4,6,8,10,12,14,15,16,18,19,20}\n",
        "setB={4,8,12,16,20}\n",
        "setA.union(setB)"
      ],
      "metadata": {
        "colab": {
          "base_uri": "https://localhost:8080/"
        },
        "id": "pw7Drbv_zevq",
        "outputId": "e04f88e7-c922-4060-c644-6c017581a191"
      },
      "execution_count": 149,
      "outputs": [
        {
          "output_type": "execute_result",
          "data": {
            "text/plain": [
              "{2, 4, 6, 8, 10, 12, 14, 15, 16, 18, 19, 20}"
            ]
          },
          "metadata": {},
          "execution_count": 149
        }
      ]
    },
    {
      "cell_type": "markdown",
      "source": [
        "**update()**  -- combines pencils with notebooks and returns the updated notebooks."
      ],
      "metadata": {
        "id": "llIT9kKG0lRI"
      }
    },
    {
      "cell_type": "code",
      "source": [
        "pencils={\"Natraj\",\"Apsara\",\"classmate\",\"Faber castle\"}\n",
        "notebooks={\"oxford\",\"pearls\",\"foundation\",\"classmate\"}\n",
        "notebooks.update(pencils)\n",
        "print(notebooks)"
      ],
      "metadata": {
        "colab": {
          "base_uri": "https://localhost:8080/"
        },
        "id": "YqVDqoCY0DDF",
        "outputId": "1ead1ad2-f84c-4939-c286-c9c95320b0bc"
      },
      "execution_count": 154,
      "outputs": [
        {
          "output_type": "stream",
          "name": "stdout",
          "text": [
            "{'Apsara', 'Natraj', 'classmate', 'pearls', 'foundation', 'oxford', 'Faber castle'}\n"
          ]
        }
      ]
    },
    {
      "cell_type": "markdown",
      "source": [
        "**TUPLES ( )** \n",
        "\n",
        "*   Read only structure that cannot be changed.\n",
        "\n",
        "*   Indexed and Ordered\n",
        "\n"
      ],
      "metadata": {
        "id": "O1C4aU3rrIY7"
      }
    },
    {
      "cell_type": "code",
      "source": [
        "#tuples-Read only cannot be changed\n",
        "#indexed N ordered\n",
        "\n",
        "t=(\"luminate\",\"shine\",\"glow\",100,580)\n"
      ],
      "metadata": {
        "id": "__jWCJkziEKG"
      },
      "execution_count": null,
      "outputs": []
    },
    {
      "cell_type": "code",
      "source": [
        "dir(t)"
      ],
      "metadata": {
        "colab": {
          "base_uri": "https://localhost:8080/"
        },
        "id": "_6B4MEhgy8Fj",
        "outputId": "679a3cff-dc14-4be7-c0af-320572629e65"
      },
      "execution_count": 148,
      "outputs": [
        {
          "output_type": "execute_result",
          "data": {
            "text/plain": [
              "['__add__',\n",
              " '__class__',\n",
              " '__contains__',\n",
              " '__delattr__',\n",
              " '__dir__',\n",
              " '__doc__',\n",
              " '__eq__',\n",
              " '__format__',\n",
              " '__ge__',\n",
              " '__getattribute__',\n",
              " '__getitem__',\n",
              " '__getnewargs__',\n",
              " '__gt__',\n",
              " '__hash__',\n",
              " '__init__',\n",
              " '__init_subclass__',\n",
              " '__iter__',\n",
              " '__le__',\n",
              " '__len__',\n",
              " '__lt__',\n",
              " '__mul__',\n",
              " '__ne__',\n",
              " '__new__',\n",
              " '__reduce__',\n",
              " '__reduce_ex__',\n",
              " '__repr__',\n",
              " '__rmul__',\n",
              " '__setattr__',\n",
              " '__sizeof__',\n",
              " '__str__',\n",
              " '__subclasshook__',\n",
              " 'count',\n",
              " 'index']"
            ]
          },
          "metadata": {},
          "execution_count": 148
        }
      ]
    },
    {
      "cell_type": "markdown",
      "source": [
        "**tuple.count()** -- returns the number of times the specified element occurs."
      ],
      "metadata": {
        "id": "aIQ2FZS42Ic0"
      }
    },
    {
      "cell_type": "code",
      "source": [
        "beverages=(\"tea\",\"coffee\",\"lemonade\",\"milk\",\"coffee\",\"lemonade\",\"coffee\")\n",
        "beverages.count(\"coffee\")\n",
        "\n"
      ],
      "metadata": {
        "colab": {
          "base_uri": "https://localhost:8080/"
        },
        "id": "xZ2qO4waiENn",
        "outputId": "ee854834-1936-4625-d837-87cf04149b9a"
      },
      "execution_count": 19,
      "outputs": [
        {
          "output_type": "execute_result",
          "data": {
            "text/plain": [
              "3"
            ]
          },
          "metadata": {},
          "execution_count": 19
        }
      ]
    },
    {
      "cell_type": "markdown",
      "source": [
        "***tuple.index()***   -- you give the element and it will retun you the position in the tuple."
      ],
      "metadata": {
        "id": "-4ZwqzPG2iNH"
      }
    },
    {
      "cell_type": "code",
      "source": [
        "beverages=(\"tea\",\"coffee\",\"lemonade\",\"milk\",\"coffee\",\"lemonade\",\"coffee\")\n",
        "beverages.index(\"milk\")"
      ],
      "metadata": {
        "colab": {
          "base_uri": "https://localhost:8080/"
        },
        "id": "Cc_sIdbh25_v",
        "outputId": "de73eb65-022f-4a75-c5c8-fd0beb32f5d0"
      },
      "execution_count": 21,
      "outputs": [
        {
          "output_type": "execute_result",
          "data": {
            "text/plain": [
              "3"
            ]
          },
          "metadata": {},
          "execution_count": 21
        }
      ]
    },
    {
      "cell_type": "markdown",
      "source": [
        "**`DICTIONARIES {}`**\n",
        "\n",
        "\n",
        "*   stores the data value in \"keys\":values format and keys can be of any datatype\n",
        "*   Dictionaries are ordered,changed but cannot be duplicated.\n",
        "\n"
      ],
      "metadata": {
        "id": "_bMrxjfujkQZ"
      }
    },
    {
      "cell_type": "code",
      "source": [
        "details={\"name\":\"Synthiya\",\"Reg\":20145,\"Location\":\"mumbai\",38:\"door number\"}\n",
        "print(details)"
      ],
      "metadata": {
        "colab": {
          "base_uri": "https://localhost:8080/"
        },
        "id": "F1sFCgNuiEUG",
        "outputId": "08054064-3f73-4def-88a5-09295533ba7e"
      },
      "execution_count": 158,
      "outputs": [
        {
          "output_type": "stream",
          "name": "stdout",
          "text": [
            "{'name': 'Synthiya', 'Reg': 20145, 'Location': 'mumbai', 38: 'door number'}\n"
          ]
        }
      ]
    },
    {
      "cell_type": "code",
      "source": [
        "N=details[\"name\"]\n",
        "print(N)"
      ],
      "metadata": {
        "colab": {
          "base_uri": "https://localhost:8080/"
        },
        "id": "HJLwtrgI5ATS",
        "outputId": "c628719f-ca23-4be5-af8d-8f8c2b9c92ba"
      },
      "execution_count": 160,
      "outputs": [
        {
          "output_type": "stream",
          "name": "stdout",
          "text": [
            "Synthiya\n"
          ]
        }
      ]
    },
    {
      "cell_type": "markdown",
      "source": [
        "**fromkeys()**    --  Matches the values with keys in the dictionary \n",
        "\n"
      ],
      "metadata": {
        "id": "enAKzPV15Qw3"
      }
    },
    {
      "cell_type": "code",
      "source": [
        "KEYS='key1','key2','key3'\n",
        "Values='Red','blue'\n",
        "\n",
        "dict.fromkeys(KEYS,Values)\n"
      ],
      "metadata": {
        "colab": {
          "base_uri": "https://localhost:8080/"
        },
        "id": "aOS8zVWz5vmK",
        "outputId": "b9e99d25-a735-4db9-9a68-20669306617e"
      },
      "execution_count": 175,
      "outputs": [
        {
          "output_type": "execute_result",
          "data": {
            "text/plain": [
              "{'key1': ('Red', 'blue'), 'key2': ('Red', 'blue'), 'key3': ('Red', 'blue')}"
            ]
          },
          "metadata": {},
          "execution_count": 175
        }
      ]
    },
    {
      "cell_type": "markdown",
      "source": [
        "***get()***   -- Give the key and get the value."
      ],
      "metadata": {
        "id": "vfpk7T0J9HHK"
      }
    },
    {
      "cell_type": "code",
      "source": [
        "signal={\"red\":\"Stop\",\"green\":\"Go\",\"Yellow\":\"Get ready\"}\n",
        "signal.get(\"green\")"
      ],
      "metadata": {
        "colab": {
          "base_uri": "https://localhost:8080/",
          "height": 35
        },
        "id": "5_q9DxxH9XhB",
        "outputId": "083ab689-75fa-43b9-c3c1-cc4163a3e0d3"
      },
      "execution_count": 176,
      "outputs": [
        {
          "output_type": "execute_result",
          "data": {
            "text/plain": [
              "'Go'"
            ],
            "application/vnd.google.colaboratory.intrinsic+json": {
              "type": "string"
            }
          },
          "metadata": {},
          "execution_count": 176
        }
      ]
    },
    {
      "cell_type": "markdown",
      "source": [
        "***items()***   -- Displays the all the keys and their corresponding values in the dictionary. "
      ],
      "metadata": {
        "id": "VLs8NruO_EBL"
      }
    },
    {
      "cell_type": "code",
      "source": [
        "lion={\"pt1\":\"king of the jungle\",\"pt2\":\"extint animal\",20:\"lifes span\"}\n",
        "lion.items()"
      ],
      "metadata": {
        "colab": {
          "base_uri": "https://localhost:8080/"
        },
        "id": "0EFHTdTv_JNh",
        "outputId": "0982ae66-6a2e-4765-df19-b53d61672943"
      },
      "execution_count": 12,
      "outputs": [
        {
          "output_type": "execute_result",
          "data": {
            "text/plain": [
              "dict_items([('pt1', 'king of the jungle'), ('pt2', 'extint animal'), (20, 'lifes span')])"
            ]
          },
          "metadata": {},
          "execution_count": 12
        }
      ]
    },
    {
      "cell_type": "markdown",
      "source": [
        "***pop()***  -- Give the key and pop will remove its value from the dictionary."
      ],
      "metadata": {
        "id": "TJmPlnYW_KP4"
      }
    },
    {
      "cell_type": "code",
      "source": [
        "lion={\"pt1\":\"king of the jungle\",\"pt2\":\"extint animal\",20:\"lifes span\"}\n",
        "lion.pop(\"pt2\")\n",
        "print(lion)"
      ],
      "metadata": {
        "colab": {
          "base_uri": "https://localhost:8080/"
        },
        "id": "64WKt5Fi_RSU",
        "outputId": "79bf1074-5b57-441f-f2fc-e9c3fdbc875e"
      },
      "execution_count": 14,
      "outputs": [
        {
          "output_type": "stream",
          "name": "stdout",
          "text": [
            "{'pt1': 'king of the jungle', 20: 'lifes span'}\n"
          ]
        }
      ]
    },
    {
      "cell_type": "markdown",
      "source": [
        "***popitem()***   -- ommits recently updated keys and values from the dictionary."
      ],
      "metadata": {
        "id": "InUDXlid_SbY"
      }
    },
    {
      "cell_type": "code",
      "source": [
        "ratings={'5 stars': 'natraj', ' 8 stars': 'Apsara', '10 stars': 'classmate'}\n",
        "ratings.popitem()\n",
        "ratings"
      ],
      "metadata": {
        "colab": {
          "base_uri": "https://localhost:8080/"
        },
        "id": "VpVYQePa_dTM",
        "outputId": "f31cfdda-eb36-4bd9-8fc3-8bebd2e720ab"
      },
      "execution_count": 9,
      "outputs": [
        {
          "output_type": "execute_result",
          "data": {
            "text/plain": [
              "{'5 stars': 'natraj', ' 8 stars': 'Apsara'}"
            ]
          },
          "metadata": {},
          "execution_count": 9
        }
      ]
    },
    {
      "cell_type": "markdown",
      "source": [
        "***default()***   ----  Assigning any of the key to be deafault. "
      ],
      "metadata": {
        "id": "rI8dgBF7FQk_"
      }
    },
    {
      "cell_type": "code",
      "source": [
        "data={\"Name\":\"synth\",\"location\":\"Bangalore\",\"country\":\"India\"}\n",
        "data.setdefault(\"country\")"
      ],
      "metadata": {
        "colab": {
          "base_uri": "https://localhost:8080/",
          "height": 35
        },
        "id": "dfH2d_yZFn6P",
        "outputId": "69de8e5b-98af-4551-8404-60e9034c7a3e"
      },
      "execution_count": 13,
      "outputs": [
        {
          "output_type": "execute_result",
          "data": {
            "text/plain": [
              "'India'"
            ],
            "application/vnd.google.colaboratory.intrinsic+json": {
              "type": "string"
            }
          },
          "metadata": {},
          "execution_count": 13
        }
      ]
    },
    {
      "cell_type": "markdown",
      "source": [
        "***update()***    -- updates the dictionary by adding the new key and value to the existing dictionary."
      ],
      "metadata": {
        "id": "11Mhqd5G_eWe"
      }
    },
    {
      "cell_type": "code",
      "source": [
        "ratings={\"5 stars\":\"natraj\",\" 8 stars\":\"Apsara\"}\n",
        "ratings.update({\"10 stars\":\"classmate\"})\n",
        "ratings"
      ],
      "metadata": {
        "colab": {
          "base_uri": "https://localhost:8080/"
        },
        "id": "DReKb8Tk_tdX",
        "outputId": "f2aaec82-546e-4211-8f82-726a96067a6b"
      },
      "execution_count": 7,
      "outputs": [
        {
          "output_type": "execute_result",
          "data": {
            "text/plain": [
              "{'5 stars': 'natraj', ' 8 stars': 'Apsara', '10 stars': 'classmate'}"
            ]
          },
          "metadata": {},
          "execution_count": 7
        }
      ]
    },
    {
      "cell_type": "markdown",
      "source": [
        "***values()***   --Returns the values in the dictionary(pencils)"
      ],
      "metadata": {
        "id": "AnKxw6Hz_uEc"
      }
    },
    {
      "cell_type": "code",
      "source": [
        "pencils={\"Natraj\":5,\"Apsara\":8,\"classmate\":10,\"Faber castle\":7}\n",
        "pencils.values()"
      ],
      "metadata": {
        "colab": {
          "base_uri": "https://localhost:8080/"
        },
        "id": "rooUZt70_0xK",
        "outputId": "6b7e3d28-35d0-4f54-9a9e-e584a6cc1d11"
      },
      "execution_count": 1,
      "outputs": [
        {
          "output_type": "execute_result",
          "data": {
            "text/plain": [
              "dict_values([5, 8, 10, 7])"
            ]
          },
          "metadata": {},
          "execution_count": 1
        }
      ]
    }
  ]
}